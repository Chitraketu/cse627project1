{
 "cells": [
  {
   "cell_type": "code",
   "execution_count": 2,
   "metadata": {},
   "outputs": [
    {
     "data": {
      "text/plain": [
       "'\\nthis code is to parse the description file,\\nin order to map all the string of categorical attributes to an integer\\nso that they can be treated as numerical attribute\\n'"
      ]
     },
     "execution_count": 2,
     "metadata": {},
     "output_type": "execute_result"
    }
   ],
   "source": [
    "'''\n",
    "this code parses the description file,\n",
    "in order to map all the string of categorical attributes to an integer\n",
    "so that they can be treated as numerical attribute\n",
    "'''"
   ]
  },
  {
   "cell_type": "code",
   "execution_count": 47,
   "metadata": {},
   "outputs": [
    {
     "name": "stdout",
     "output_type": "stream",
     "text": [
      "Populating the interactive namespace from numpy and matplotlib\n"
     ]
    },
    {
     "name": "stderr",
     "output_type": "stream",
     "text": [
      "C:\\Users\\chitr\\AppData\\Local\\conda\\conda\\envs\\cse627\\lib\\site-packages\\IPython\\core\\magics\\pylab.py:160: UserWarning: pylab import has clobbered these variables: ['f']\n",
      "`%matplotlib` prevents importing * from pylab and numpy\n",
      "  \"\\n`%matplotlib` prevents importing * from pylab and numpy\"\n"
     ]
    }
   ],
   "source": [
    "import pandas\n",
    "%pylab inline"
   ]
  },
  {
   "cell_type": "code",
   "execution_count": 36,
   "metadata": {},
   "outputs": [],
   "source": [
    "\n",
    "'''\n",
    "@params:\n",
    "    filename: a filename of the description.txt from kaggle competition describing each columns of dataset\n",
    "@returns:\n",
    "    dictionary of mapping for each string type of categorical values for each column with an integer\n",
    "'''\n",
    "def buildJSON(filename):\n",
    "    with open(filename,'r') as f:\n",
    "        d = dict()\n",
    "        temp = ''\n",
    "        count = 0\n",
    "        for l in f:\n",
    "            if l.strip() == '':continue\n",
    "            if ':' in l:\n",
    "                temp = l.split(':')[0]\n",
    "                d[temp] = dict()\n",
    "                count = 0\n",
    "            else:\n",
    "                lst = l.strip().split('\\t')\n",
    "                try:\n",
    "                    int(lst[0])\n",
    "                except ValueError:\n",
    "                    d[temp][lst[0]] = count\n",
    "                count += 1\n",
    "    return d\n",
    "#print(d)"
   ]
  },
  {
   "cell_type": "code",
   "execution_count": 48,
   "metadata": {},
   "outputs": [],
   "source": [
    "'''\n",
    "@params\n",
    "    df: a dataframe from which the null columns are to be removied\n",
    "    threshold: the total count of nulls in the column to decide whether to remove that column or not\n",
    "@returns:\n",
    "    dataframe with deleted columns based on the threshold from the provided dataframe 'df'\n",
    "'''\n",
    "def removeNullCols(df,threshold):\n",
    "    count_null = sum(pandas.isnull(df[df.columns]),axis=0)\n",
    "    return df[count_null[count_null < threshold].index]"
   ]
  },
  {
   "cell_type": "code",
   "execution_count": 49,
   "metadata": {},
   "outputs": [],
   "source": [
    "filename = 'dataset/data_description.txt'\n",
    "d = buildJSON(filename)\n",
    "df = pandas.read_csv('dataset/train.csv')\n",
    "processed_df = removeNullCols(df,100)\n",
    "processed_df = processed_df.replace(d)"
   ]
  },
  {
   "cell_type": "code",
   "execution_count": null,
   "metadata": {},
   "outputs": [],
   "source": []
  }
 ],
 "metadata": {
  "kernelspec": {
   "display_name": "Python 3",
   "language": "python",
   "name": "python3"
  },
  "language_info": {
   "codemirror_mode": {
    "name": "ipython",
    "version": 3
   },
   "file_extension": ".py",
   "mimetype": "text/x-python",
   "name": "python",
   "nbconvert_exporter": "python",
   "pygments_lexer": "ipython3",
   "version": "3.7.0"
  }
 },
 "nbformat": 4,
 "nbformat_minor": 2
}
