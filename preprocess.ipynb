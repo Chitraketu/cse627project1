{
 "cells": [
  {
   "cell_type": "code",
   "execution_count": 89,
   "metadata": {},
   "outputs": [
    {
     "name": "stderr",
     "output_type": "stream",
     "text": [
      "C:\\Users\\chitr\\AppData\\Local\\conda\\conda\\envs\\cse627\\lib\\site-packages\\ipykernel_launcher.py:7: FutureWarning: Sorting because non-concatenation axis is not aligned. A future version\n",
      "of pandas will change to not sort by default.\n",
      "\n",
      "To accept the future behavior, pass 'sort=False'.\n",
      "\n",
      "To retain the current behavior and silence the warning, pass 'sort=True'.\n",
      "\n",
      "  import sys\n"
     ]
    },
    {
     "data": {
      "text/html": [
       "<div>\n",
       "<style scoped>\n",
       "    .dataframe tbody tr th:only-of-type {\n",
       "        vertical-align: middle;\n",
       "    }\n",
       "\n",
       "    .dataframe tbody tr th {\n",
       "        vertical-align: top;\n",
       "    }\n",
       "\n",
       "    .dataframe thead th {\n",
       "        text-align: right;\n",
       "    }\n",
       "</style>\n",
       "<table border=\"1\" class=\"dataframe\">\n",
       "  <thead>\n",
       "    <tr style=\"text-align: right;\">\n",
       "      <th></th>\n",
       "      <th>a</th>\n",
       "      <th>b</th>\n",
       "      <th>c</th>\n",
       "    </tr>\n",
       "  </thead>\n",
       "  <tbody>\n",
       "    <tr>\n",
       "      <th>0</th>\n",
       "      <td>1</td>\n",
       "      <td>0</td>\n",
       "      <td>0</td>\n",
       "    </tr>\n",
       "    <tr>\n",
       "      <th>1</th>\n",
       "      <td>0</td>\n",
       "      <td>1</td>\n",
       "      <td>0</td>\n",
       "    </tr>\n",
       "    <tr>\n",
       "      <th>2</th>\n",
       "      <td>1</td>\n",
       "      <td>0</td>\n",
       "      <td>0</td>\n",
       "    </tr>\n",
       "  </tbody>\n",
       "</table>\n",
       "</div>"
      ],
      "text/plain": [
       "   a  b  c\n",
       "0  1  0  0\n",
       "1  0  1  0\n",
       "2  1  0  0"
      ]
     },
     "execution_count": 89,
     "metadata": {},
     "output_type": "execute_result"
    }
   ],
   "source": [
    "#filling the null values with median values\n",
    "processed_df = processed_df.fillna(processed_df.median(axis=0))\n",
    "\n",
    "#one hot encoding\n",
    "cats = [\"a\", \"b\", \"c\"]\n",
    "df = pandas.DataFrame({\"cat\": [\"a\", \"b\", \"a\"]})\n",
    "pandas.concat((pandas.get_dummies(df.cat, columns=cats), pandas.DataFrame(columns=cats))).fillna(0)"
   ]
  },
  {
   "cell_type": "code",
   "execution_count": 2,
   "metadata": {},
   "outputs": [
    {
     "data": {
      "text/plain": [
       "'\\nthis program parses the description file,\\nin order to map all the string of categorical attributes to an integer\\nso that they can be treated as numerical attribute\\nand then removes the columns which have more than 100 nulls \\n'"
      ]
     },
     "execution_count": 2,
     "metadata": {},
     "output_type": "execute_result"
    }
   ],
   "source": [
    "'''\n",
    "this program parses the description file,\n",
    "in order to map all the string of categorical attributes to an integer\n",
    "so that they can be treated as numerical attribute\n",
    "and then removes the columns which have more than 100 nulls \n",
    "'''"
   ]
  },
  {
   "cell_type": "code",
   "execution_count": 2,
   "metadata": {},
   "outputs": [
    {
     "name": "stdout",
     "output_type": "stream",
     "text": [
      "Populating the interactive namespace from numpy and matplotlib\n"
     ]
    }
   ],
   "source": [
    "import pandas\n",
    "%pylab inline"
   ]
  },
  {
   "cell_type": "code",
   "execution_count": 3,
   "metadata": {},
   "outputs": [],
   "source": [
    "\n",
    "'''\n",
    "@params:\n",
    "    filename: a filename of the description.txt from kaggle competition describing each columns of dataset\n",
    "@returns:\n",
    "    dictionary of mapping for each string type of categorical values for each column with an integer\n",
    "'''\n",
    "def buildJSON(filename):\n",
    "    with open(filename,'r') as f:\n",
    "        d = dict()\n",
    "        temp = ''\n",
    "        count = 0\n",
    "        for l in f:\n",
    "            if l.strip() == '':continue\n",
    "            if ':' in l:\n",
    "                temp = l.split(':')[0]\n",
    "                d[temp] = dict()\n",
    "                count = 0\n",
    "            else:\n",
    "                lst = l.strip().split('\\t')\n",
    "                try:\n",
    "                    int(lst[0])\n",
    "                except ValueError:\n",
    "                    d[temp][lst[0]] = count\n",
    "                count += 1\n",
    "    return d\n",
    "#print(d)"
   ]
  },
  {
   "cell_type": "code",
   "execution_count": 4,
   "metadata": {},
   "outputs": [],
   "source": [
    "'''\n",
    "@params\n",
    "    df: a dataframe from which the null columns are to be removied\n",
    "    threshold: the total count of nulls in the column to decide whether to remove that column or not\n",
    "@returns:\n",
    "    dataframe with deleted columns based on the threshold from the provided dataframe 'df'\n",
    "'''\n",
    "def removeNullCols(df,threshold):\n",
    "    count_null = sum(pandas.isnull(df[df.columns]),axis=0)\n",
    "    return df[count_null[count_null < threshold].index]"
   ]
  },
  {
   "cell_type": "code",
   "execution_count": 5,
   "metadata": {},
   "outputs": [
    {
     "name": "stdout",
     "output_type": "stream",
     "text": [
      "{'MSSubClass': {}, 'MSZoning': {'A': 0, 'C (all)': 1, 'FV': 2, 'I': 3, 'RH': 4, 'RL': 5, 'RP': 6, 'RM': 7}, 'LotFrontage': {}, 'LotArea': {}, 'Street': {'Grvl': 0, 'Pave': 1}, 'Alley': {'Grvl': 0, 'Pave': 1, 'NA ': 2}, 'LotShape': {'Reg': 0, 'IR1': 1, 'IR2': 2, 'IR3': 3}, 'LandContour': {'Lvl': 0, 'Bnk': 1, 'HLS': 2, 'Low': 3}, 'Utilities': {'AllPub': 0, 'NoSewr': 1, 'NoSeWa': 2, 'ELO': 3}, 'LotConfig': {'Inside': 0, 'Corner': 1, 'CulDSac': 2, 'FR2': 3, 'FR3': 4}, 'LandSlope': {'Gtl': 0, 'Mod': 1, 'Sev': 2}, 'Neighborhood': {'Blmngtn': 0, 'Blueste': 1, 'BrDale': 2, 'BrkSide': 3, 'ClearCr': 4, 'CollgCr': 5, 'Crawfor': 6, 'Edwards': 7, 'Gilbert': 8, 'IDOTRR': 9, 'MeadowV': 10, 'Mitchel': 11, 'NAmes': 12, 'NoRidge': 13, 'NPkVill': 14, 'NridgHt': 15, 'NWAmes': 16, 'OldTown': 17, 'SWISU': 18, 'Sawyer': 19, 'SawyerW': 20, 'Somerst': 21, 'StoneBr': 22, 'Timber': 23, 'Veenker': 24}, 'Condition1': {'Artery': 0, 'Feedr': 1, 'Norm': 2, 'RRNn': 3, 'RRAn': 4, 'PosN': 5, 'PosA': 6, 'RRNe': 7, 'RRAe': 8}, 'Condition2': {'Artery': 0, 'Feedr': 1, 'Norm': 2, 'RRNn': 3, 'RRAn': 4, 'PosN': 5, 'PosA': 6, 'RRNe': 7, 'RRAe': 8}, 'BldgType': {'1Fam': 0, '2fmCon': 1, 'Duplex': 2, 'TwnhsE': 3, 'Twnhs': 4}, 'HouseStyle': {'1Story': 0, '1.5Fin': 1, '1.5Unf': 2, '2Story': 3, '2.5Fin': 4, '2.5Unf': 5, 'SFoyer': 6, 'SLvl': 7}, 'OverallQual': {}, 'OverallCond': {}, 'YearBuilt': {}, 'YearRemodAdd': {}, 'RoofStyle': {'Flat': 0, 'Gable': 1, 'Gambrel': 2, 'Hip': 3, 'Mansard': 4, 'Shed': 5}, 'RoofMatl': {'ClyTile': 0, 'CompShg': 1, 'Membran': 2, 'Metal': 3, 'Roll': 4, 'Tar&Grv': 5, 'WdShake': 6, 'WdShngl': 7}, 'Exterior1st': {'AsbShng': 0, 'AsphShn': 1, 'BrkComm': 2, 'BrkFace': 3, 'CBlock': 4, 'CemntBd': 5, 'HdBoard': 6, 'ImStucc': 7, 'MetalSd': 8, 'Other': 9, 'Plywood': 10, 'PreCast': 11, 'Stone': 12, 'Stucco': 13, 'VinylSd': 14, 'Wd Sdng': 15, 'WdShing': 16}, 'Exterior2nd': {'AsbShng': 0, 'AsphShn': 1, 'Brk Cmn': 2, 'BrkFace': 3, 'CBlock': 4, 'CmentBd': 5, 'HdBoard': 6, 'ImStucc': 7, 'MetalSd': 8, 'Other': 9, 'Plywood': 10, 'PreCast': 11, 'Stone': 12, 'Stucco': 13, 'VinylSd': 14, 'Wd Sdng': 15, 'Wd Shng': 16}, 'MasVnrType': {'BrkCmn': 0, 'BrkFace': 1, 'CBlock': 2, 'None': 3, 'Stone': 4}, 'MasVnrArea': {}, 'ExterQual': {'Ex': 0, 'Gd': 1, 'TA': 2, 'Fa': 3, 'Po': 4}, 'ExterCond': {'Ex': 0, 'Gd': 1, 'TA': 2, 'Fa': 3, 'Po': 4}, 'Foundation': {'BrkTil': 0, 'CBlock': 1, 'PConc': 2, 'Slab': 3, 'Stone': 4, 'Wood': 5}, 'BsmtQual': {'Ex': 0, 'Gd': 1, 'TA': 2, 'Fa': 3, 'Po': 4, 'NA': 5}, 'BsmtCond': {'Ex': 0, 'Gd': 1, 'TA': 2, 'Fa': 3, 'Po': 4, 'NA': 5}, 'BsmtExposure': {'Gd': 0, 'Av': 1, 'Mn': 2, 'No': 3, 'NA': 4}, 'BsmtFinType1': {'GLQ': 0, 'ALQ': 1, 'BLQ': 2, 'Rec': 3, 'LwQ': 4, 'Unf': 5, 'NA': 6}, 'BsmtFinSF1': {}, 'BsmtFinType2': {'GLQ': 0, 'ALQ': 1, 'BLQ': 2, 'Rec': 3, 'LwQ': 4, 'Unf': 5, 'NA': 6}, 'BsmtFinSF2': {}, 'BsmtUnfSF': {}, 'TotalBsmtSF': {}, 'Heating': {'Floor': 0, 'GasA': 1, 'GasW': 2, 'Grav': 3, 'OthW': 4, 'Wall': 5}, 'HeatingQC': {'Ex': 0, 'Gd': 1, 'TA': 2, 'Fa': 3, 'Po': 4}, 'CentralAir': {'N': 0, 'Y': 1}, 'Electrical': {'SBrkr': 0, 'FuseA': 1, 'FuseF': 2, 'FuseP': 3, 'Mix': 4}, '1stFlrSF': {}, '2ndFlrSF': {}, 'LowQualFinSF': {}, 'GrLivArea': {}, 'BsmtFullBath': {}, 'BsmtHalfBath': {}, 'FullBath': {}, 'HalfBath': {}, 'Bedroom': {}, 'Kitchen': {}, 'KitchenQual': {'Ex': 0, 'Gd': 1, 'TA': 2, 'Fa': 3, 'Po': 4}, 'TotRmsAbvGrd': {}, 'Functional': {'Typ': 0, 'Min1': 1, 'Min2': 2, 'Mod': 3, 'Maj1': 4, 'Maj2': 5, 'Sev': 6, 'Sal': 7}, 'Fireplaces': {}, 'FireplaceQu': {'Ex': 0, 'Gd': 1, 'TA': 2, 'Fa': 3, 'Po': 4, 'NA': 5}, 'GarageType': {'2Types': 0, 'Attchd': 1, 'Basment': 2, 'BuiltIn': 3, 'CarPort': 4, 'Detchd': 5, 'NA': 6}, 'GarageYrBlt': {}, 'GarageFinish': {'Fin': 0, 'RFn': 1, 'Unf': 2, 'NA': 3}, 'GarageCars': {}, 'GarageArea': {}, 'GarageQual': {'Ex': 0, 'Gd': 1, 'TA': 2, 'Fa': 3, 'Po': 4, 'NA': 5}, 'GarageCond': {'Ex': 0, 'Gd': 1, 'TA': 2, 'Fa': 3, 'Po': 4, 'NA': 5}, 'PavedDrive': {'Y': 0, 'P': 1, 'N': 2}, 'WoodDeckSF': {}, 'OpenPorchSF': {}, 'EnclosedPorch': {}, '3SsnPorch': {}, 'ScreenPorch': {}, 'PoolArea': {}, 'PoolQC': {'Ex': 0, 'Gd': 1, 'TA': 2, 'Fa': 3, 'NA': 4}, 'Fence': {'GdPrv': 0, 'MnPrv': 1, 'GdWo': 2, 'MnWw': 3, 'NA': 4}, 'MiscFeature': {'Elev': 0, 'Gar2': 1, 'Othr': 2, 'Shed': 3, 'TenC': 4, 'NA': 5}, 'MiscVal': {}, 'MoSold': {}, 'YrSold': {}, 'SaleType': {'WD': 0, 'CWD': 1, 'VWD': 2, 'New': 3, 'COD': 4, 'Con': 5, 'ConLw': 6, 'ConLI': 7, 'ConLD': 8, 'Oth': 9}, 'SaleCondition': {'Normal': 0, 'Abnorml': 1, 'AdjLand': 2, 'Alloca': 3, 'Family': 4, 'Partial': 5}}\n"
     ]
    }
   ],
   "source": [
    "filename = 'dataset/data_description.txt'\n",
    "d = buildJSON(filename)\n",
    "df = pandas.read_csv('dataset/train.csv')\n",
    "processed_df = removeNullCols(df,50)\n",
    "processed_df = processed_df.replace(d)\n",
    "print(d)"
   ]
  },
  {
   "cell_type": "code",
   "execution_count": 21,
   "metadata": {},
   "outputs": [],
   "source": [
    "from sklearn.ensemble import RandomForestRegressor\n",
    "processed_df = processed_df.fillna(processed_df.median(axis=0))\n",
    "y = processed_df['SalePrice']\n",
    "X = processed_df.drop('SalePrice',axis=1)\n",
    "cols = X.columns"
   ]
  },
  {
   "cell_type": "code",
   "execution_count": 130,
   "metadata": {},
   "outputs": [
    {
     "name": "stderr",
     "output_type": "stream",
     "text": [
      "C:\\Users\\chitr\\AppData\\Local\\conda\\conda\\envs\\cse627\\lib\\site-packages\\sklearn\\model_selection\\_split.py:605: Warning: The least populated class in y has only 1 members, which is too few. The minimum number of members in any class cannot be less than n_splits=5.\n",
      "  % (min_groups, self.n_splits)), Warning)\n"
     ]
    },
    {
     "name": "stdout",
     "output_type": "stream",
     "text": [
      "(728, 69)\n",
      "2484325555.161202\n",
      "(1156, 69)\n",
      "405497139.5678957\n",
      "(1258, 69)\n",
      "376055327.642104\n",
      "(1329, 69)\n",
      "1026756748.3852168\n",
      "(1369, 69)\n",
      "416281349.55479777\n"
     ]
    }
   ],
   "source": [
    "skf1 = StratifiedKFold(n_splits=10)\n",
    "for train_index,test_index in skf.split(X,y):\n",
    "    X_train, X_test = X.iloc[train_index],X.iloc[test_index]\n",
    "    y_train, y_test = y.iloc[train_index],y.iloc[test_index]\n",
    "    print(X_train.shape)\n",
    "    r = RandomForestRegressor(100)\n",
    "    r.fit(X_train,y_train)\n",
    "    y_pred = r.predict(X_test)\n",
    "    print(mse(y_test,y_pred))"
   ]
  },
  {
   "cell_type": "code",
   "execution_count": 16,
   "metadata": {},
   "outputs": [
    {
     "name": "stderr",
     "output_type": "stream",
     "text": [
      "C:\\Users\\chitr\\AppData\\Local\\conda\\conda\\envs\\cse627\\lib\\site-packages\\sklearn\\model_selection\\_split.py:605: Warning: The least populated class in y has only 1 members, which is too few. The minimum number of members in any class cannot be less than n_splits=5.\n",
      "  % (min_groups, self.n_splits)), Warning)\n"
     ]
    },
    {
     "name": "stdout",
     "output_type": "stream",
     "text": [
      "(728, 289)\n",
      "728 732\n",
      "2572494586.6530056\n",
      "732 predicted array's length\n",
      "(1156, 289)\n",
      "1156 304\n",
      "419084625.0977961\n",
      "304 predicted array's length\n",
      "(1258, 289)\n",
      "1258 202\n",
      "400267867.66916436\n",
      "202 predicted array's length\n",
      "(1329, 289)\n",
      "1329 131\n",
      "1207866098.7688487\n",
      "131 predicted array's length\n",
      "(1369, 289)\n",
      "1369 91\n",
      "403915757.43513405\n",
      "91 predicted array's length\n"
     ]
    }
   ],
   "source": [
    "from sklearn.model_selection import StratifiedKFold\n",
    "from sklearn.metrics import mean_squared_error as mse\n",
    "skf = StratifiedKFold(n_splits=5)\n",
    "skf.get_n_splits(X, y)\n",
    "\n",
    "tdf = pandas.get_dummies(df)\n",
    "tdf = tdf.fillna(tdf.median(axis=0))\n",
    "ty = tdf['SalePrice']\n",
    "tX = tdf.drop('SalePrice',axis=1)\n",
    "for train_index, test_index in skf.split(tX, ty):\n",
    "    X_train, X_test = tX.iloc[train_index], tX.iloc[test_index]\n",
    "    y_train, y_test = ty.iloc[train_index], ty.iloc[test_index]\n",
    "    print(X_train.shape)\n",
    "    print(len(X_train),len(X_test))\n",
    "    r1 = RandomForestRegressor(50)\n",
    "    r1.fit(X_train,y_train)\n",
    "    ty_test = r1.predict(X_test)\n",
    "    print(mse(y_test,ty_test))\n",
    "    print(len(ty_test),'predicted array\\'s length')\n",
    "    \n",
    "#sum(pandas.isna(X[X.columns]))"
   ]
  },
  {
   "cell_type": "code",
   "execution_count": 23,
   "metadata": {},
   "outputs": [],
   "source": [
    "test_df = pandas.read_csv('dataset/test.csv')\n",
    "rf = RandomForestRegressor(100)\n",
    "rf.fit(X,y)\n",
    "test_df = test_df[cols]\n",
    "test_df = test_df.replace(d)\n",
    "test_df = test_df.fillna(test_df.median(axis=0))\n",
    "y_pred = rf.predict(test_df)"
   ]
  },
  {
   "cell_type": "code",
   "execution_count": 38,
   "metadata": {},
   "outputs": [],
   "source": [
    "submission = pandas.concat([test_df['Id'],pandas.Series(y_pred,name='SalePrice')],axis=1)\n",
    "submission.to_csv('dataset/submission_1.csv',index=False)\n",
    "#submission.shape"
   ]
  },
  {
   "cell_type": "code",
   "execution_count": null,
   "metadata": {},
   "outputs": [],
   "source": []
  }
 ],
 "metadata": {
  "kernelspec": {
   "display_name": "Python 3",
   "language": "python",
   "name": "python3"
  },
  "language_info": {
   "codemirror_mode": {
    "name": "ipython",
    "version": 3
   },
   "file_extension": ".py",
   "mimetype": "text/x-python",
   "name": "python",
   "nbconvert_exporter": "python",
   "pygments_lexer": "ipython3",
   "version": "3.7.0"
  }
 },
 "nbformat": 4,
 "nbformat_minor": 2
}
