{
 "cells": [
  {
   "cell_type": "code",
   "execution_count": 2,
   "metadata": {},
   "outputs": [
    {
     "data": {
      "text/plain": [
       "'\\nthis code is to parse the description file,\\nin order to map all the string of categorical attributes to an integer\\nso that they can be treated as numerical attribute\\n'"
      ]
     },
     "execution_count": 2,
     "metadata": {},
     "output_type": "execute_result"
    }
   ],
   "source": [
    "'''\n",
    "this code is to parse the description file,\n",
    "in order to map all the string of categorical attributes to an integer\n",
    "so that they can be treated as numerical attribute\n",
    "'''"
   ]
  },
  {
   "cell_type": "code",
   "execution_count": 62,
   "metadata": {},
   "outputs": [
    {
     "name": "stdout",
     "output_type": "stream",
     "text": [
      "{'MSSubClass': [('20', '1-STORY 1946 & NEWER ALL STYLES', 0), ('30', '1-STORY 1945 & OLDER', 1), ('40', '1-STORY W/FINISHED ATTIC ALL AGES', 2), ('45', '1-1/2 STORY - UNFINISHED ALL AGES', 3), ('50', '1-1/2 STORY FINISHED ALL AGES', 4), ('60', '2-STORY 1946 & NEWER', 5), ('70', '2-STORY 1945 & OLDER', 6), ('75', '2-1/2 STORY ALL AGES', 7), ('80', 'SPLIT OR MULTI-LEVEL', 8), ('85', 'SPLIT FOYER', 9), ('90', 'DUPLEX - ALL STYLES AND AGES', 10), ('120', '1-STORY PUD (Planned Unit Development) - 1946 & NEWER', 11), ('150', '1-1/2 STORY PUD - ALL AGES', 12), ('160', '2-STORY PUD - 1946 & NEWER', 13), ('180', 'PUD - MULTILEVEL - INCL SPLIT LEV/FOYER', 14), ('190', '2 FAMILY CONVERSION - ALL STYLES AND AGES', 15)], 'MSZoning': [('A', 'Agriculture', 0), ('C', 'Commercial', 1), ('FV', 'Floating Village Residential', 2), ('I', 'Industrial', 3), ('RH', 'Residential High Density', 4), ('RL', 'Residential Low Density', 5), ('RP', 'Residential Low Density Park', 6), ('RM', 'Residential Medium Density', 7)], 'LotFrontage': [], 'LotArea': [], 'Street': [('Grvl', 'Gravel', 0), ('Pave', 'Paved', 1)], 'Alley': [('Grvl', 'Gravel', 0), ('Pave', 'Paved', 1), ('NA ', 'No alley access', 2)], 'LotShape': [('Reg', 'Regular', 0), ('IR1', 'Slightly irregular', 1), ('IR2', 'Moderately Irregular', 2), ('IR3', 'Irregular', 3)], 'LandContour': [('Lvl', 'Near Flat/Level', 0), ('Bnk', 'Banked - Quick and significant rise from street grade to building', 1), ('HLS', 'Hillside - Significant slope from side to side', 2), ('Low', 'Depression', 3)], 'Utilities': [('AllPub', 'All public Utilities (E,G,W,& S)', 0), ('NoSewr', 'Electricity, Gas, and Water (Septic Tank)', 1), ('NoSeWa', 'Electricity and Gas Only', 2), ('ELO', 'Electricity only', 3)], 'LotConfig': [('Inside', 'Inside lot', 0), ('Corner', 'Corner lot', 1), ('CulDSac', 'Cul-de-sac', 2), ('FR2', 'Frontage on 2 sides of property', 3), ('FR3', 'Frontage on 3 sides of property', 4)], 'LandSlope': [('Gtl', 'Gentle slope', 0), ('Mod', 'Moderate Slope', 1), ('Sev', 'Severe Slope', 2)], 'Neighborhood': [('Blmngtn', 'Bloomington Heights', 0), ('Blueste', 'Bluestem', 1), ('BrDale', 'Briardale', 2), ('BrkSide', 'Brookside', 3), ('ClearCr', 'Clear Creek', 4), ('CollgCr', 'College Creek', 5), ('Crawfor', 'Crawford', 6), ('Edwards', 'Edwards', 7), ('Gilbert', 'Gilbert', 8), ('IDOTRR', 'Iowa DOT and Rail Road', 9), ('MeadowV', 'Meadow Village', 10), ('Mitchel', 'Mitchell', 11), ('Names', 'North Ames', 12), ('NoRidge', 'Northridge', 13), ('NPkVill', 'Northpark Villa', 14), ('NridgHt', 'Northridge Heights', 15), ('NWAmes', 'Northwest Ames', 16), ('OldTown', 'Old Town', 17), ('SWISU', 'South & West of Iowa State University', 18), ('Sawyer', 'Sawyer', 19), ('SawyerW', 'Sawyer West', 20), ('Somerst', 'Somerset', 21), ('StoneBr', 'Stone Brook', 22), ('Timber', 'Timberland', 23), ('Veenker', 'Veenker', 24)], 'Condition1': [('Artery', 'Adjacent to arterial street', 0), ('Feedr', 'Adjacent to feeder street', 1), ('Norm', 'Normal', 2), ('RRNn', \"Within 200' of North-South Railroad\", 3), ('RRAn', 'Adjacent to North-South Railroad', 4), ('PosN', 'Near positive off-site feature--park, greenbelt, etc.', 5), ('PosA', 'Adjacent to postive off-site feature', 6), ('RRNe', \"Within 200' of East-West Railroad\", 7), ('RRAe', 'Adjacent to East-West Railroad', 8)], 'Condition2': [('Artery', 'Adjacent to arterial street', 0), ('Feedr', 'Adjacent to feeder street', 1), ('Norm', 'Normal', 2), ('RRNn', \"Within 200' of North-South Railroad\", 3), ('RRAn', 'Adjacent to North-South Railroad', 4), ('PosN', 'Near positive off-site feature--park, greenbelt, etc.', 5), ('PosA', 'Adjacent to postive off-site feature', 6), ('RRNe', \"Within 200' of East-West Railroad\", 7), ('RRAe', 'Adjacent to East-West Railroad', 8)], 'BldgType': [('1Fam', 'Single-family Detached', 0), ('2FmCon', 'Two-family Conversion; originally built as one-family dwelling', 1), ('Duplx', 'Duplex', 2), ('TwnhsE', 'Townhouse End Unit', 3), ('TwnhsI', 'Townhouse Inside Unit', 4)], 'HouseStyle': [('1Story', 'One story', 0), ('1.5Fin', 'One and one-half story| 2nd level finished', 1), ('1.5Unf', 'One and one-half story| 2nd level unfinished', 2), ('2Story', 'Two story', 3), ('2.5Fin', 'Two and one-half story| 2nd level finished', 4), ('2.5Unf', 'Two and one-half story| 2nd level unfinished', 5), ('SFoyer', 'Split Foyer', 6), ('SLvl', 'Split Level', 7)], 'OverallQual': [('10', 'Very Excellent', 0), ('9', 'Excellent', 1), ('8', 'Very Good', 2), ('7', 'Good', 3), ('6', 'Above Average', 4), ('5', 'Average', 5), ('4', 'Below Average', 6), ('3', 'Fair', 7), ('2', 'Poor', 8), ('1', 'Very Poor', 9)], 'OverallCond': [('10', 'Very Excellent', 0), ('9', 'Excellent', 1), ('8', 'Very Good', 2), ('7', 'Good', 3), ('6', 'Above Average', 4), ('5', 'Average', 5), ('4', 'Below Average', 6), ('3', 'Fair', 7), ('2', 'Poor', 8), ('1', 'Very Poor', 9)], 'YearBuilt': [], 'YearRemodAdd': [], 'RoofStyle': [('Flat', 'Flat', 0), ('Gable', 'Gable', 1), ('Gambrel', 'Gabrel (Barn)', 2), ('Hip', 'Hip', 3), ('Mansard', 'Mansard', 4), ('Shed', 'Shed', 5)], 'RoofMatl': [('ClyTile', 'Clay or Tile', 0), ('CompShg', 'Standard (Composite) Shingle', 1), ('Membran', 'Membrane', 2), ('Metal', 'Metal', 3), ('Roll', 'Roll', 4), ('Tar&Grv', 'Gravel & Tar', 5), ('WdShake', 'Wood Shakes', 6), ('WdShngl', 'Wood Shingles', 7)], 'Exterior1st': [('AsbShng', 'Asbestos Shingles', 0), ('AsphShn', 'Asphalt Shingles', 1), ('BrkComm', 'Brick Common', 2), ('BrkFace', 'Brick Face', 3), ('CBlock', 'Cinder Block', 4), ('CemntBd', 'Cement Board', 5), ('HdBoard', 'Hard Board', 6), ('ImStucc', 'Imitation Stucco', 7), ('MetalSd', 'Metal Siding', 8), ('Other', 'Other', 9), ('Plywood', 'Plywood', 10), ('PreCast', 'PreCast', 11), ('Stone', 'Stone', 12), ('Stucco', 'Stucco', 13), ('VinylSd', 'Vinyl Siding', 14), ('Wd Sdng', 'Wood Siding', 15), ('WdShing', 'Wood Shingles', 16)], 'Exterior2nd': [('AsbShng', 'Asbestos Shingles', 0), ('AsphShn', 'Asphalt Shingles', 1), ('BrkComm', 'Brick Common', 2), ('BrkFace', 'Brick Face', 3), ('CBlock', 'Cinder Block', 4), ('CemntBd', 'Cement Board', 5), ('HdBoard', 'Hard Board', 6), ('ImStucc', 'Imitation Stucco', 7), ('MetalSd', 'Metal Siding', 8), ('Other', 'Other', 9), ('Plywood', 'Plywood', 10), ('PreCast', 'PreCast', 11), ('Stone', 'Stone', 12), ('Stucco', 'Stucco', 13), ('VinylSd', 'Vinyl Siding', 14), ('Wd Sdng', 'Wood Siding', 15), ('WdShing', 'Wood Shingles', 16)], 'MasVnrType': [('BrkCmn', 'Brick Common', 0), ('BrkFace', 'Brick Face', 1), ('CBlock', 'Cinder Block', 2), ('None', 'None', 3), ('Stone', 'Stone', 4)], 'MasVnrArea': [], 'ExterQual': [('Ex', 'Excellent', 0), ('Gd', 'Good', 1), ('TA', 'Average/Typical', 2), ('Fa', 'Fair', 3), ('Po', 'Poor', 4)], 'ExterCond': [('Ex', 'Excellent', 0), ('Gd', 'Good', 1), ('TA', 'Average/Typical', 2), ('Fa', 'Fair', 3), ('Po', 'Poor', 4)], 'Foundation': [('BrkTil', 'Brick & Tile', 0), ('CBlock', 'Cinder Block', 1), ('PConc', 'Poured Contrete', 2), ('Slab', 'Slab', 3), ('Stone', 'Stone', 4), ('Wood', 'Wood', 5)], 'BsmtQual': [('Ex', 'Excellent (100+ inches)', 0), ('Gd', 'Good (90-99 inches)', 1), ('TA', 'Typical (80-89 inches)', 2), ('Fa', 'Fair (70-79 inches)', 3), ('Po', 'Poor (<70 inches', 4), ('NA', 'No Basement', 5)], 'BsmtCond': [('Ex', 'Excellent', 0), ('Gd', 'Good', 1), ('TA', 'Typical - slight dampness allowed', 2), ('Fa', 'Fair - dampness or some cracking or settling', 3), ('Po', 'Poor - Severe cracking, settling, or wetness', 4), ('NA', 'No Basement', 5)], 'BsmtExposure': [('Gd', 'Good Exposure', 0), ('Av', 'Average Exposure (split levels or foyers typically score average or above)', 1), ('Mn', 'Mimimum Exposure', 2), ('No', 'No Exposure', 3), ('NA', 'No Basement', 4)], 'BsmtFinType1': [('GLQ', 'Good Living Quarters', 0), ('ALQ', 'Average Living Quarters', 1), ('BLQ', 'Below Average Living Quarters', 2), ('Rec', 'Average Rec Room', 3), ('LwQ', 'Low Quality', 4), ('Unf', 'Unfinshed', 5), ('NA', 'No Basement', 6)], 'BsmtFinSF1': [], 'BsmtFinType2': [('GLQ', 'Good Living Quarters', 0), ('ALQ', 'Average Living Quarters', 1), ('BLQ', 'Below Average Living Quarters', 2), ('Rec', 'Average Rec Room', 3), ('LwQ', 'Low Quality', 4), ('Unf', 'Unfinshed', 5), ('NA', 'No Basement', 6)], 'BsmtFinSF2': [], 'BsmtUnfSF': [], 'TotalBsmtSF': [], 'Heating': [('Floor', 'Floor Furnace', 0), ('GasA', 'Gas forced warm air furnace', 1), ('GasW', 'Gas hot water or steam heat', 2), ('Grav', 'Gravity furnace', 3), ('OthW', 'Hot water or steam heat other than gas', 4), ('Wall', 'Wall furnace', 5)], 'HeatingQC': [('Ex', 'Excellent', 0), ('Gd', 'Good', 1), ('TA', 'Average/Typical', 2), ('Fa', 'Fair', 3), ('Po', 'Poor', 4)], 'CentralAir': [('N', 'No', 0), ('Y', 'Yes', 1)], 'Electrical': [('SBrkr', 'Standard Circuit Breakers & Romex', 0), ('FuseA', 'Fuse Box over 60 AMP and all Romex wiring (Average)', 1), ('FuseF', '60 AMP Fuse Box and mostly Romex wiring (Fair)', 2), ('FuseP', '60 AMP Fuse Box and mostly knob & tube wiring (poor)', 3), ('Mix', 'Mixed', 4)], '1stFlrSF': [], '2ndFlrSF': [], 'LowQualFinSF': [], 'GrLivArea': [], 'BsmtFullBath': [], 'BsmtHalfBath': [], 'FullBath': [], 'HalfBath': [], 'Bedroom': [], 'Kitchen': [], 'KitchenQual': [('Ex', 'Excellent', 0), ('Gd', 'Good', 1), ('TA', 'Typical/Average', 2), ('Fa', 'Fair', 3), ('Po', 'Poor', 4)], 'TotRmsAbvGrd': [], 'Functional': [('Typ', 'Typical Functionality', 0), ('Min1', 'Minor Deductions 1', 1), ('Min2', 'Minor Deductions 2', 2), ('Mod', 'Moderate Deductions', 3), ('Maj1', 'Major Deductions 1', 4), ('Maj2', 'Major Deductions 2', 5), ('Sev', 'Severely Damaged', 6), ('Sal', 'Salvage only', 7)], 'Fireplaces': [], 'FireplaceQu': [('Ex', 'Excellent - Exceptional Masonry Fireplace', 0), ('Gd', 'Good - Masonry Fireplace in main level', 1), ('TA', 'Average - Prefabricated Fireplace in main living area or Masonry Fireplace in basement', 2), ('Fa', 'Fair - Prefabricated Fireplace in basement', 3), ('Po', 'Poor - Ben Franklin Stove', 4), ('NA', 'No Fireplace', 5)], 'GarageType': [('2Types', 'More than one type of garage', 0), ('Attchd', 'Attached to home', 1), ('Basment', 'Basement Garage', 2), ('BuiltIn', 'Built-In (Garage part of house - typically has room above garage)', 3), ('CarPort', 'Car Port', 4), ('Detchd', 'Detached from home', 5), ('NA', 'No Garage', 6)], 'GarageYrBlt': [], 'GarageFinish': [('Fin', 'Finished', 0), ('RFn', 'Rough Finished', 1), ('Unf', 'Unfinished', 2), ('NA', 'No Garage', 3)], 'GarageCars': [], 'GarageArea': [], 'GarageQual': [('Ex', 'Excellent', 0), ('Gd', 'Good', 1), ('TA', 'Typical/Average', 2), ('Fa', 'Fair', 3), ('Po', 'Poor', 4), ('NA', 'No Garage', 5)], 'GarageCond': [('Ex', 'Excellent', 0), ('Gd', 'Good', 1), ('TA', 'Typical/Average', 2), ('Fa', 'Fair', 3), ('Po', 'Poor', 4), ('NA', 'No Garage', 5)], 'PavedDrive': [('Y', 'Paved', 0), ('P', 'Partial Pavement', 1), ('N', 'Dirt/Gravel', 2)], 'WoodDeckSF': [], 'OpenPorchSF': [], 'EnclosedPorch': [], '3SsnPorch': [], 'ScreenPorch': [], 'PoolArea': [], 'PoolQC': [('Ex', 'Excellent', 0), ('Gd', 'Good', 1), ('TA', 'Average/Typical', 2), ('Fa', 'Fair', 3), ('NA', 'No Pool', 4)], 'Fence': [('GdPrv', 'Good Privacy', 0), ('MnPrv', 'Minimum Privacy', 1), ('GdWo', 'Good Wood', 2), ('MnWw', 'Minimum Wood/Wire', 3), ('NA', 'No Fence', 4)], 'MiscFeature': [('Elev', 'Elevator', 0), ('Gar2', '2nd Garage (if not described in garage section)', 1), ('Othr', 'Other', 2), ('Shed', 'Shed (over 100 SF)', 3), ('TenC', 'Tennis Court', 4), ('NA', 'None', 5)], 'MiscVal': [], 'MoSold': [], 'YrSold': [], 'SaleType': [('WD ', 'Warranty Deed - Conventional', 0), ('CWD', 'Warranty Deed - Cash', 1), ('VWD', 'Warranty Deed - VA Loan', 2), ('New', 'Home just constructed and sold', 3), ('COD', 'Court Officer Deed/Estate', 4), ('Con', 'Contract 15% Down payment regular terms', 5), ('ConLw', 'Contract Low Down payment and low interest', 6), ('ConLI', 'Contract Low Interest', 7), ('ConLD', 'Contract Low Down', 8), ('Oth', 'Other', 9)], 'SaleCondition': [('Normal', 'Normal Sale', 0), ('Abnorml', 'Abnormal Sale -  trade, foreclosure, short sale', 1), ('AdjLand', 'Adjoining Land Purchase', 2), ('Alloca', 'Allocation - two linked properties with separate deeds, typically condo with a garage unit', 3), ('Family', 'Sale between family members', 4), ('Partial', 'Home was not completed when last assessed (associated with New Homes)', 5)]}\n"
     ]
    }
   ],
   "source": [
    "filename = 'dataset/data_description.txt'\n",
    "with open(filename,'r') as f:\n",
    "    d = dict()\n",
    "    temp = ''\n",
    "    count = 0\n",
    "    for l in f:\n",
    "        #print(l.strip())\n",
    "        if l.strip() == '':continue\n",
    "        if ':' in l:\n",
    "            temp = l.split(':')[0]\n",
    "            d[temp] = []\n",
    "            count = 0\n",
    "        else:\n",
    "            #print (len(tuple(l.strip().split('\\t'))))\n",
    "            lst = l.strip().split('\\t')\n",
    "            lst.append(count)\n",
    "            d[temp].append(tuple(lst))\n",
    "            count += 1\n",
    "print(d)"
   ]
  }
 ],
 "metadata": {
  "kernelspec": {
   "display_name": "Python 3",
   "language": "python",
   "name": "python3"
  },
  "language_info": {
   "codemirror_mode": {
    "name": "ipython",
    "version": 3
   },
   "file_extension": ".py",
   "mimetype": "text/x-python",
   "name": "python",
   "nbconvert_exporter": "python",
   "pygments_lexer": "ipython3",
   "version": "3.7.0"
  }
 },
 "nbformat": 4,
 "nbformat_minor": 2
}
